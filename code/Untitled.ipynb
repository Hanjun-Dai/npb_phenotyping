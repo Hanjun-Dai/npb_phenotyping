{
 "cells": [
  {
   "cell_type": "code",
   "execution_count": 33,
   "metadata": {
    "collapsed": false
   },
   "outputs": [],
   "source": [
    "def loadDict(filename):\n",
    "    my_dict = {}\n",
    "    with open(filename, 'r') as f:\n",
    "        for line in f:\n",
    "            line = line.strip().split(',')[0:2]\n",
    "            name = line[0].strip()\n",
    "            idx = int(line[1].strip())\n",
    "            my_dict[idx] = name\n",
    "    return my_dict"
   ]
  },
  {
   "cell_type": "code",
   "execution_count": 34,
   "metadata": {
    "collapsed": true
   },
   "outputs": [],
   "source": [
    "def getProbs(filename):\n",
    "    probs = []\n",
    "    idx = 0\n",
    "    with open('npb_tensor/' + filename, 'r') as f:\n",
    "        for line in f:\n",
    "            p = float(line.strip())\n",
    "            probs.append((p, idx))\n",
    "            idx = idx + 1\n",
    "    probs.sort(reverse=True)\n",
    "    return probs"
   ]
  },
  {
   "cell_type": "code",
   "execution_count": 40,
   "metadata": {
    "collapsed": false
   },
   "outputs": [],
   "source": [
    "med_dict = loadDict('medDict.csv')\n",
    "diag_dict = loadDict('diagDict.csv')\n"
   ]
  },
  {
   "cell_type": "code",
   "execution_count": 59,
   "metadata": {
    "collapsed": false,
    "scrolled": true
   },
   "outputs": [
    {
     "name": "stdout",
     "output_type": "stream",
     "text": [
      "Diltiazem 0.458644021616\n",
      "Amiodarone 0.320209118569\n",
      "Esmolol 0.103242359566\n",
      "Neosynephrine-k 0.061760365106\n",
      "Lasix 0.0269265700922\n",
      "Procainamide 0.0127991462695\n",
      "Propofol 0.00552767812543\n",
      "Heparin 0.00497366150493\n",
      "Levophed-k 0.00164956178194\n",
      "Morphine Sulfate 0.000541528540938\n"
     ]
    }
   ],
   "source": [
    "probs = getProbs('med-11.txt')\n",
    "for i in range(10):\n",
    "    print med_dict[probs[i][1]], probs[i][0]"
   ]
  },
  {
   "cell_type": "code",
   "execution_count": 60,
   "metadata": {
    "collapsed": false,
    "scrolled": true
   },
   "outputs": [
    {
     "name": "stdout",
     "output_type": "stream",
     "text": [
      "427.31 0.0848872507013\n",
      "401.9 0.0495686911445\n",
      "428.0 0.049499439067\n",
      "518.81 0.0326711842193\n",
      "414.01 0.0286545637207\n",
      "584.9 0.0285853116431\n",
      "599.0 0.026230741006\n",
      "250.00 0.0260922368509\n",
      "486 0.0247071952997\n",
      "496 0.0243609349118\n"
     ]
    }
   ],
   "source": [
    "probs = getProbs('diag-11.txt')\n",
    "for i in range(10):\n",
    "    print diag_dict[probs[i][1]], probs[i][0]"
   ]
  },
  {
   "cell_type": "code",
   "execution_count": null,
   "metadata": {
    "collapsed": true
   },
   "outputs": [],
   "source": []
  }
 ],
 "metadata": {
  "kernelspec": {
   "display_name": "Python 2",
   "language": "python",
   "name": "python2"
  },
  "language_info": {
   "codemirror_mode": {
    "name": "ipython",
    "version": 2
   },
   "file_extension": ".py",
   "mimetype": "text/x-python",
   "name": "python",
   "nbconvert_exporter": "python",
   "pygments_lexer": "ipython2",
   "version": "2.7.6"
  }
 },
 "nbformat": 4,
 "nbformat_minor": 0
}
