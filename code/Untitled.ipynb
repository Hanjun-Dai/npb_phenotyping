{
 "cells": [
  {
   "cell_type": "code",
   "execution_count": 1,
   "metadata": {
    "collapsed": false
   },
   "outputs": [
    {
     "name": "stdout",
     "output_type": "stream",
     "text": [
      "{0: 'Aggrastat', 1: 'Alcohol 10%', 2: 'Amicar', 3: 'Aminophylline', 4: 'Amiodarone', 5: 'Amrinone', 6: 'Argatroban', 7: 'Ativan', 8: 'Atracurium', 9: 'Bivalirudin', 10: 'Cisatracurium', 11: 'Dilaudid', 12: 'Diltiazem', 13: 'Dobutamine', 14: 'Dobutamine Drip', 15: 'Dopamine', 16: 'Dopamine Drip', 17: 'Doxacurium', 18: 'Epinephrine', 19: 'Epinephrine Drip', 20: 'Epinephrine-k', 21: 'Esmolol', 22: 'Fentanyl', 23: 'Fentanyl (Conc)', 24: 'Fentanyl Drip', 25: 'Heparin', 26: 'Insulin', 27: 'Insulin Drip', 28: 'Integrelin', 29: 'Ketamine', 30: 'Labetolol', 31: 'Lasix', 32: 'Lepirudin', 33: 'Levophed', 34: 'Levophed-k', 35: 'Lidocaine', 36: 'Midazolam', 37: 'Milrinone', 38: 'Morphine Sulfate', 39: 'Narcan', 40: 'Natrecor', 41: 'Neosynephrine', 42: 'Neosynephrine-k', 43: 'Nicardipine', 44: 'Nitroglycerine', 45: 'Nitroglycerine-k', 46: 'Nitroprusside', 47: 'Pancuronium', 48: 'Pentobarbitol', 49: 'Precedex', 50: 'Procainamide', 51: 'Propofol', 52: 'Prostin VR Drip', 53: 'Reopro', 54: 'Sandostatin', 55: 'Sodium Bicarb Drip', 56: 'TPA', 57: 'Valium', 58: 'Vasopressin', 59: 'Vecuronium', 60: 'Xigris'}\n"
     ]
    }
   ],
   "source": [
    "med_dict = {}\n",
    "with open('medDict.csv', 'r') as f:\n",
    "    for line in f:\n",
    "        line = line.strip().split(',')[0:2]\n",
    "        name = line[0].strip()\n",
    "        idx = int(line[1].strip())\n",
    "        med_dict[idx] = name\n",
    "\n",
    "print med_dict"
   ]
  },
  {
   "cell_type": "code",
   "execution_count": 13,
   "metadata": {
    "collapsed": false
   },
   "outputs": [
    {
     "name": "stdout",
     "output_type": "stream",
     "text": [
      "[(0.24883922626478425, 46), (0.1647994149342134, 51), (0.14881414722759304, 45), (0.09096518168343927, 26), (0.0866955010582182, 42), (0.07300128149196038, 30), (0.03327242396703747, 21), (0.02629514099411524, 43), (0.023327192266827425, 4), (0.016245770742070526, 25), (0.015777147258814555, 49), (0.013798514773956008, 20), (0.012496782876022754, 12), (0.009945388356073578, 37), (0.009320557045065616, 15), (0.006144331214108478, 34), (0.0040094909014979415, 22), (0.002291204796226048, 40), (0.0021870662443913874, 31), (0.0021349969684740576, 13), (0.0016663734852180863, 58), (0.0014580963815487655, 10), (0.001301888553796775, 36), (0.001301888553796775, 2), (0.000885334346458134, 32), (0.0007291265187061435, 41), (0.0006249879668714833, 7), (0.0005729186909541531, 50), (0.00041671086320216273, 38), (0.00041671086320216273, 35), (0.00010429520769818193, 23), (5.222593178085179e-05, 59), (5.222593178085179e-05, 44), (5.222593178085179e-05, 11), (1.5665586352166237e-07, 60), (1.5665586352166237e-07, 57), (1.5665586352166237e-07, 56), (1.5665586352166237e-07, 55), (1.5665586352166237e-07, 54), (1.5665586352166237e-07, 53), (1.5665586352166237e-07, 52), (1.5665586352166237e-07, 48), (1.5665586352166237e-07, 47), (1.5665586352166237e-07, 39), (1.5665586352166237e-07, 33), (1.5665586352166237e-07, 29), (1.5665586352166237e-07, 28), (1.5665586352166237e-07, 27), (1.5665586352166237e-07, 24), (1.5665586352166237e-07, 19), (1.5665586352166237e-07, 18), (1.5665586352166237e-07, 17), (1.5665586352166237e-07, 16), (1.5665586352166237e-07, 14), (1.5665586352166237e-07, 9), (1.5665586352166237e-07, 8), (1.5665586352166237e-07, 6), (1.5665586352166237e-07, 5), (1.5665586352166237e-07, 3), (1.5665586352166237e-07, 1), (1.5665586352166237e-07, 0)]\n"
     ]
    }
   ],
   "source": [
    "probs = []\n",
    "idx = 0\n",
    "with open('npb_tensor/med-8.txt', 'r') as f:\n",
    "    for line in f:\n",
    "        p = float(line.strip())\n",
    "        probs.append((p, idx))\n",
    "        idx = idx + 1\n",
    "probs.sort(reverse=True)\n",
    "print probs"
   ]
  },
  {
   "cell_type": "code",
   "execution_count": 14,
   "metadata": {
    "collapsed": false
   },
   "outputs": [
    {
     "name": "stdout",
     "output_type": "stream",
     "text": [
      "Nitroprusside 0.248839226265\n",
      "Propofol 0.164799414934\n",
      "Nitroglycerine-k 0.148814147228\n",
      "Insulin 0.0909651816834\n",
      "Neosynephrine-k 0.0866955010582\n",
      "Labetolol 0.073001281492\n",
      "Esmolol 0.033272423967\n",
      "Nicardipine 0.0262951409941\n",
      "Amiodarone 0.0233271922668\n",
      "Heparin 0.0162457707421\n",
      "Precedex 0.0157771472588\n",
      "Epinephrine-k 0.013798514774\n",
      "Diltiazem 0.012496782876\n",
      "Milrinone 0.00994538835607\n",
      "Dopamine 0.00932055704507\n",
      "Levophed-k 0.00614433121411\n",
      "Fentanyl 0.0040094909015\n",
      "Natrecor 0.00229120479623\n",
      "Lasix 0.00218706624439\n",
      "Dobutamine 0.00213499696847\n",
      "Vasopressin 0.00166637348522\n",
      "Cisatracurium 0.00145809638155\n",
      "Midazolam 0.0013018885538\n",
      "Amicar 0.0013018885538\n",
      "Lepirudin 0.000885334346458\n",
      "Neosynephrine 0.000729126518706\n",
      "Ativan 0.000624987966871\n",
      "Procainamide 0.000572918690954\n",
      "Morphine Sulfate 0.000416710863202\n",
      "Lidocaine 0.000416710863202\n",
      "Fentanyl (Conc) 0.000104295207698\n",
      "Vecuronium 5.22259317809e-05\n",
      "Nitroglycerine 5.22259317809e-05\n",
      "Dilaudid 5.22259317809e-05\n",
      "Xigris 1.56655863522e-07\n",
      "Valium 1.56655863522e-07\n",
      "TPA 1.56655863522e-07\n",
      "Sodium Bicarb Drip 1.56655863522e-07\n",
      "Sandostatin 1.56655863522e-07\n",
      "Reopro 1.56655863522e-07\n",
      "Prostin VR Drip 1.56655863522e-07\n",
      "Pentobarbitol 1.56655863522e-07\n",
      "Pancuronium 1.56655863522e-07\n",
      "Narcan 1.56655863522e-07\n",
      "Levophed 1.56655863522e-07\n",
      "Ketamine 1.56655863522e-07\n",
      "Integrelin 1.56655863522e-07\n",
      "Insulin Drip 1.56655863522e-07\n",
      "Fentanyl Drip 1.56655863522e-07\n",
      "Epinephrine Drip 1.56655863522e-07\n",
      "Epinephrine 1.56655863522e-07\n",
      "Doxacurium 1.56655863522e-07\n",
      "Dopamine Drip 1.56655863522e-07\n",
      "Dobutamine Drip 1.56655863522e-07\n",
      "Bivalirudin 1.56655863522e-07\n",
      "Atracurium 1.56655863522e-07\n",
      "Argatroban 1.56655863522e-07\n",
      "Amrinone 1.56655863522e-07\n",
      "Aminophylline 1.56655863522e-07\n",
      "Alcohol 10% 1.56655863522e-07\n",
      "Aggrastat 1.56655863522e-07\n"
     ]
    }
   ],
   "source": [
    "for i in range(len(probs)):\n",
    "    print med_dict[probs[i][1]], probs[i][0]"
   ]
  },
  {
   "cell_type": "code",
   "execution_count": null,
   "metadata": {
    "collapsed": true
   },
   "outputs": [],
   "source": []
  }
 ],
 "metadata": {
  "kernelspec": {
   "display_name": "Python 2",
   "language": "python",
   "name": "python2"
  },
  "language_info": {
   "codemirror_mode": {
    "name": "ipython",
    "version": 2
   },
   "file_extension": ".py",
   "mimetype": "text/x-python",
   "name": "python",
   "nbconvert_exporter": "python",
   "pygments_lexer": "ipython2",
   "version": "2.7.6"
  }
 },
 "nbformat": 4,
 "nbformat_minor": 0
}
